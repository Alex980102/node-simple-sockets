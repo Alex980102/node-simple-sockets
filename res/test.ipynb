{
 "cells": [
  {
   "cell_type": "code",
   "execution_count": null,
   "metadata": {},
   "outputs": [],
   "source": [
    "const {exec} = require(\"child_process\");\n",
    "\n",
    "exec(\"tree -a\", (error, stdout, stderr) => {\n",
    "    if (error) {\n",
    "        console.log(`error: ${error.message}`);\n",
    "        return;\n",
    "    }\n",
    "    if (stderr) {\n",
    "        console.log(`stderr: ${stderr}`);\n",
    "        return;\n",
    "    }\n",
    "    console.log(`stdout: ${stdout}`);\n",
    "});\n",
    "\n",
    "exec(\"tree -a\", (error, stdout, stderr) => {\n",
    "    if (error) {\n",
    "        console.log(`error: ${error.message}`);\n",
    "        return;\n",
    "    }\n",
    "    if (stderr) {\n",
    "        console.log(`stderr: ${stderr}`);\n",
    "        return;\n",
    "    }\n",
    "    console.log(`stdout: ${stdout}`);\n",
    "});"
   ]
  },
  {
   "cell_type": "code",
   "execution_count": null,
   "metadata": {},
   "outputs": [],
   "source": [
    "const runCommand = (command: string) =>{\n",
    "    exec(command, async(error, stdout, stderr) => {\n",
    "        if (error) {\n",
    "            console.log(`error: ${error}`);\n",
    "            return;\n",
    "        }\n",
    "        if(stderr){\n",
    "            console.log(`stderr: ${stderr}`);\n",
    "            return;\n",
    "        }\n",
    "        console.log(`stdout: \\n${stdout}`);\n",
    "    });\n",
    "}  \n"
   ]
  }
 ],
 "metadata": {
  "kernelspec": {
   "display_name": "TypeScript",
   "language": "typescript",
   "name": "typescript"
  },
  "language_info": {
   "codemirror_mode": {
    "mode": "typescript",
    "name": "javascript",
    "typescript": true
   },
   "file_extension": ".ts",
   "mimetype": "text/typescript",
   "name": "typescript",
   "version": "3.7.2"
  },
  "orig_nbformat": 2
 },
 "nbformat": 4,
 "nbformat_minor": 2
}